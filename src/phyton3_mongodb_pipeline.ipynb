{
 "cells": [
  {
   "cell_type": "code",
   "execution_count": null,
   "metadata": {},
   "outputs": [],
   "source": [
    "[\n",
    "    {\n",
    "        '$match': {\n",
    "            'address.country_code': 'BR'\n",
    "        }\n",
    "    }, {\n",
    "        '$group': {\n",
    "            '_id': '$bedrooms', \n",
    "            'AvgPrice': {\n",
    "                '$avg': '$price'\n",
    "            }\n",
    "        }\n",
    "    }, {\n",
    "        '$sort': {\n",
    "            '_id': -1\n",
    "        }\n",
    "    }\n",
    "]"
   ]
  }
 ],
 "metadata": {
  "language_info": {
   "name": "python"
  },
  "orig_nbformat": 4
 },
 "nbformat": 4,
 "nbformat_minor": 2
}
